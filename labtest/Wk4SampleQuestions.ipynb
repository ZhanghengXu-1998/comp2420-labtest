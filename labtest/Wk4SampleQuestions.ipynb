{
 "cells": [
  {
   "cell_type": "markdown",
   "metadata": {},
   "source": [
    "<h1 align='center'> COMP2420/COMP6420 - Introduction to Data Management, Analysis and Security</h1>\n",
    "\n",
    "<h2 align='center'> Sample Questions - Week 4 Labtest</h2>\n",
    "\n",
    "*****"
   ]
  },
  {
   "cell_type": "markdown",
   "metadata": {},
   "source": [
    "The following is designed to provide you with an indication of the type of questions that will be asked in the Week 4 Labtest. Note that you will **not** be answering the same questions in the Labtest. You are welcome to discuss solutions with friends and on the forums, however the exam will be an individual assessment.\n",
    "****"
   ]
  },
  {
   "cell_type": "code",
   "execution_count": 1,
   "metadata": {},
   "outputs": [],
   "source": [
    "# Module and Data Imports, make sure you run this first!\n",
    "import numpy as np\n",
    "import pandas as pd\n",
    "from scipy import stats\n",
    "from pandas import DataFrame\n",
    "import matplotlib.pyplot as plt\n",
    "import seaborn as sns\n",
    "sns.set_style(\"white\")\n",
    "\n",
    "\n",
    "poke_data = pd.read_csv('./data/pokemon.csv')\n",
    "car_data = pd.read_csv('./data/automobile.csv')"
   ]
  },
  {
   "cell_type": "markdown",
   "metadata": {},
   "source": [
    "## Sample #1: Gotta Catch 'em All!\n",
    "Now that we've got you motivated to attempt this question with the title itself, let's get on with it! You've been given a dataset with all the defining characteristics of various pokémon (a.k.a: an incomplete **Pokédex**). You need to find and list the pokémon (and its HP) that has the highest HP (Hit Points) for each Type combination (`Type 1` and `Type 2` both). Because let's face it, that is an important data science question if you need to catch 'em all! :)"
   ]
  },
  {
   "cell_type": "code",
   "execution_count": 2,
   "metadata": {},
   "outputs": [],
   "source": [
    "# TODO: Finish the function such that it returns the pokemon with the highest HP for each type combination\n",
    "def poke_max_hp(df_pokemon):\n",
    "    # Write code here\n",
    "    a = poke_data.groupby(['Type 1','Type 2'])['HP'].max()\n",
    "\n",
    "    return a\n"
   ]
  },
  {
   "cell_type": "code",
   "execution_count": 3,
   "metadata": {},
   "outputs": [
    {
     "data": {
      "text/plain": [
       "Type 1  Type 2  \n",
       "Bug     Electric     70\n",
       "        Fighting     80\n",
       "        Fire         85\n",
       "        Flying       86\n",
       "        Ghost         1\n",
       "                   ... \n",
       "Water   Ice         130\n",
       "        Poison       80\n",
       "        Psychic      95\n",
       "        Rock        100\n",
       "        Steel        84\n",
       "Name: HP, Length: 136, dtype: int64"
      ]
     },
     "execution_count": 3,
     "metadata": {},
     "output_type": "execute_result"
    }
   ],
   "source": [
    "# Run this block to test your code\n",
    "poke_max_hp(poke_data)"
   ]
  },
  {
   "cell_type": "markdown",
   "metadata": {},
   "source": [
    "******"
   ]
  },
  {
   "cell_type": "markdown",
   "metadata": {},
   "source": [
    "## Sample #2: Serious Speed vs Passionate Power\n",
    "Ben and Afzal are fighting over what is a more important characteristic of a Pokemon: `Power` or `Speed`. In an attempt to resolve this conflict, you need to draw a plot to compare the distribution of values for the columns `Speed` and `HP`. In addition to this, print a tuple containing the overall mean of `Speed` and `HP` of all pokemon in the dataset. Finally, explain how looking at the mean and distribution of an attribute could help determine it's importance."
   ]
  },
  {
   "cell_type": "code",
   "execution_count": 4,
   "metadata": {},
   "outputs": [],
   "source": [
    "# TODO: Finish the function such that it prints a plot of the distribution of 'Speed' and 'HP', and prints the mean 'Speed' and 'HP' of the pokemon in the dataset\n",
    "def poke_conflict_resolution(df_poke):\n",
    "    # Write code here\n",
    "    a = poke_data['Speed']\n",
    "    b = poke_data['HP']\n",
    "    c = plt.boxplot([a,b], notch =True)\n",
    "    return plt.show()"
   ]
  },
  {
   "cell_type": "code",
   "execution_count": 5,
   "metadata": {},
   "outputs": [
    {
     "data": {
      "text/plain": [
       "Speed    68.27750\n",
       "HP       69.25875\n",
       "dtype: float64"
      ]
     },
     "execution_count": 5,
     "metadata": {},
     "output_type": "execute_result"
    }
   ],
   "source": [
    " poke_data[['Speed','HP']].mean()"
   ]
  },
  {
   "cell_type": "code",
   "execution_count": 6,
   "metadata": {},
   "outputs": [
    {
     "data": {
      "image/png": "[encoded data removed]",
      "text/plain": [
       "<Figure size 432x288 with 1 Axes>"
      ]
     },
     "metadata": {
      "needs_background": "light"
     },
     "output_type": "display_data"
    }
   ],
   "source": [
    "# Run this block to test your code\n",
    "poke_conflict_resolution(poke_data)"
   ]
  },
  {
   "cell_type": "raw",
   "metadata": {},
   "source": [
    "# Why is the mean useful for determining the importance of a variable? Answer Here\n"
   ]
  },
  {
   "cell_type": "markdown",
   "metadata": {},
   "source": [
    "*****"
   ]
  },
  {
   "cell_type": "markdown",
   "metadata": {},
   "source": [
    "## Sample #3: Costly Cars\n",
    "Extending upon our love for cars (especially the pricey ones!), we decided to have a look at the top 5 car manufacturers from the cars dataset. From the below dataset, help us return a dataset comprising of the **top 5 car manufacturers (in descending order)** along with their **average car prices**. But wait, there's a catch! You only have to do these computations on a subset of the dataset that only contains cars with the body-style `sedan` or `convertible`. Your result should look something like this -\n",
    "\n",
    "|    _     | company       | price     |\n",
    "| -------- |:-------------:| ---------:|\n",
    "|    6     | car_firm 1    |  1000.000 |\n",
    "|    8     | car_firm 2    |   980.000 |\n",
    "|   11     | car_firm 3    |   774.333 |\n",
    "|    3     | car_firm 4    |   645.000 |\n",
    "|    1     | car_firm 5    |   510.666 |"
   ]
  },
  {
   "cell_type": "code",
   "execution_count": 7,
   "metadata": {},
   "outputs": [],
   "source": [
    "# TODO: Finish the function so that the sedan and convertible cars are checked, and the top 5 car manufacturers along with their average car prices.\n",
    "def top_5_pricey(df_cars):\n",
    "    # Write code here\n",
    "    sedan = car_data['body-style']=='sedan'\n",
    "    con = car_data['body-style']=='convertible'\n",
    "    d = car_data[sedan|con]\n",
    "    c = d[['index','company','price']]\n",
    "    mean = c.groupby(['company'])['price'].mean()\n",
    "    e = pd.DataFrame(data=mean)\n",
    "    f = e.sort_values('price', ascending=False)\n",
    "    g = f[:5]\n",
    "    df = g.reset_index()\n",
    "    return df"
   ]
  },
  {
   "cell_type": "code",
   "execution_count": 8,
   "metadata": {},
   "outputs": [
    {
     "data": {
      "text/html": [
       "<div>\n",
       "<style scoped>\n",
       "    .dataframe tbody tr th:only-of-type {\n",
       "        vertical-align: middle;\n",
       "    }\n",
       "\n",
       "    .dataframe tbody tr th {\n",
       "        vertical-align: top;\n",
       "    }\n",
       "\n",
       "    .dataframe thead th {\n",
       "        text-align: right;\n",
       "    }\n",
       "</style>\n",
       "<table border=\"1\" class=\"dataframe\">\n",
       "  <thead>\n",
       "    <tr style=\"text-align: right;\">\n",
       "      <th></th>\n",
       "      <th>company</th>\n",
       "      <th>price</th>\n",
       "    </tr>\n",
       "  </thead>\n",
       "  <tbody>\n",
       "    <tr>\n",
       "      <td>0</td>\n",
       "      <td>porsche</td>\n",
       "      <td>37028.000000</td>\n",
       "    </tr>\n",
       "    <tr>\n",
       "      <td>1</td>\n",
       "      <td>jaguar</td>\n",
       "      <td>34600.000000</td>\n",
       "    </tr>\n",
       "    <tr>\n",
       "      <td>2</td>\n",
       "      <td>mercedes-benz</td>\n",
       "      <td>33256.000000</td>\n",
       "    </tr>\n",
       "    <tr>\n",
       "      <td>3</td>\n",
       "      <td>bmw</td>\n",
       "      <td>27213.333333</td>\n",
       "    </tr>\n",
       "    <tr>\n",
       "      <td>4</td>\n",
       "      <td>mazda</td>\n",
       "      <td>18344.000000</td>\n",
       "    </tr>\n",
       "  </tbody>\n",
       "</table>\n",
       "</div>"
      ],
      "text/plain": [
       "         company         price\n",
       "0        porsche  37028.000000\n",
       "1         jaguar  34600.000000\n",
       "2  mercedes-benz  33256.000000\n",
       "3            bmw  27213.333333\n",
       "4          mazda  18344.000000"
      ]
     },
     "execution_count": 8,
     "metadata": {},
     "output_type": "execute_result"
    }
   ],
   "source": [
    "# Run this block to test your code\n",
    "top_5_pricey(car_data)"
   ]
  },
  {
   "cell_type": "markdown",
   "metadata": {},
   "source": [
    "*****"
   ]
  },
  {
   "cell_type": "markdown",
   "metadata": {},
   "source": [
    "## Sample #4: Pump up the V6\n",
    "In our quest to find the perfect car to buy, we forgot analysis the popularity of **no. of cylinders in the car engine** among the various **car manufacturers**. Make a plot that shows us how many companies make a particular `num-of-cylinders` engine. You must also justify your type of plot including reasoning for clarity. Don't forget to label and title your plot!"
   ]
  },
  {
   "cell_type": "code",
   "execution_count": 14,
   "metadata": {},
   "outputs": [],
   "source": [
    "# TODO: complete the below function to plot the number of companies make an engine with a particular number of cylinders\n",
    "\n",
    "from matplotlib import cm\n",
    "\n",
    "def plot_cyl_companies(df_cars):\n",
    "# gets number of cars for each num of cylinders\n",
    "    df = df_cars[['company','num-of-cylinders']].groupby('num-of-cylinders', sort=False).count()\n",
    "\n",
    "# defines custom order of categories\n",
    "    columns = ['two', 'three', 'four', 'five','six', 'eight', 'twelve']\n",
    "    df.index = pd.Categorical(df.index, columns)\n",
    "\n",
    "# applies custom arrangement\n",
    "    df.sort_index(inplace=True)\n",
    "\n",
    "    # extracts numbers\n",
    "    y = df['company']\n",
    "\n",
    "# sets colours\n",
    "    colors = cm.plasma(np.arange(7)/7.)\n",
    "\n",
    "# sets up graph\n",
    "    fig = plt.figure()\n",
    "    ax = fig.add_subplot(111)\n",
    "# plots graph\n",
    "    for i in np.arange(7):\n",
    "        plt.bar(1+i,y[i],colors[i])\n",
    "\n",
    "        # adds labels\n",
    "        plt.xticks(np.arange(1,8),columns)\n",
    "        ax.set(xlabel='num-of-cylinders',\n",
    "               ylabel='num-of-comanies')\n",
    "    return\n"
   ]
  },
  {
   "cell_type": "code",
   "execution_count": 15,
   "metadata": {},
   "outputs": [
    {
     "data": {
      "image/png": "[encoded data removed]",
      "text/plain": [
       "<Figure size 432x288 with 1 Axes>"
      ]
     },
     "metadata": {
      "needs_background": "light"
     },
     "output_type": "display_data"
    }
   ],
   "source": [
    "plot_cyl_companies(car_data)"
   ]
  },
  {
   "cell_type": "markdown",
   "metadata": {},
   "source": [
    "*****"
   ]
  },
  {
   "cell_type": "markdown",
   "metadata": {},
   "source": [
    "## Sample #5: Hop to the Hypotheses\n",
    "Recall in Lab 3 that you learnt how to perform hypothesis testing. Luckily for you, you now have the chance to do what a student always dreams of, prove a tutor wrong. Tommy has made the claim that cars with six (6) cylinders will always have be more expensive than any other number of cylinders, regardless of any other car properties.\n",
    "\n",
    "To check this, please perform a hypothesis test (you'll need to determine which hypothesis test is most appropriate between one-sample, independent or related) for the price based on two groups: cars which have 6 cylinders in their engine, and cars which do not have 6 cylinders in their engine. "
   ]
  },
  {
   "cell_type": "raw",
   "metadata": {},
   "source": [
    "TODO: create null hypothesis (H0) and alternate hypothesis (HA)\n",
    "(H0)：cars with six cylinders always equal in price with any other number of cylinders\n",
    "(HA): cars with six cylinders not equal in price with any other number of cylinders"
   ]
  },
  {
   "cell_type": "code",
   "execution_count": 20,
   "metadata": {},
   "outputs": [
    {
     "name": "stdout",
     "output_type": "stream",
     "text": [
      "p-value: 3.106440906993154e-06\n"
     ]
    }
   ],
   "source": [
    "# TODO: split data and find p-value for hypothesis test\n",
    "# six = car_data[car_data.loc[:,\"num-of-cylinders\"]==\"six\"].loc[:,\"price\"]\n",
    "# other = car_data[car_data.loc[:,\"num-of-cylinders\"]!=\"six\"].loc[:,\"price\"]\n",
    "six = car_data[ (car_data['num-of-cylinders']=='six') ]\n",
    "other = car_data[ (car_data['num-of-cylinders']!='six') ]\n",
    "six =six['price'].dropna()\n",
    "other =other['price'].dropna()\n",
    "t,p = stats.ttest_ind(six, other)\n",
    "print(\"p-value:\", p)"
   ]
  },
  {
   "cell_type": "raw",
   "metadata": {},
   "source": [
    "TODO: your response to H0 and HA\n",
    "since p value < 0.05\n",
    "reject the null hypothesis"
   ]
  },
  {
   "cell_type": "markdown",
   "metadata": {},
   "source": [
    "<br>\n",
    "\n",
    "*****\n",
    "\n",
    "\n",
    "Hopefully that should help you prepare for the Labtest. Good luck!"
   ]
  }
 ],
 "metadata": {
  "kernelspec": {
   "display_name": "Python 3",
   "language": "python",
   "name": "python3"
  },
  "language_info": {
   "codemirror_mode": {
    "name": "ipython",
    "version": 3
   },
   "file_extension": ".py",
   "mimetype": "text/x-python",
   "name": "python",
   "nbconvert_exporter": "python",
   "pygments_lexer": "ipython3",
   "version": "3.7.4"
  }
 },
 "nbformat": 4,
 "nbformat_minor": 4
}
